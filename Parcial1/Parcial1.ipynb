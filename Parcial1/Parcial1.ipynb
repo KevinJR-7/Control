{
 "cells": [
  {
   "cell_type": "markdown",
   "metadata": {},
   "source": [
    "# <img align=\"left\" style=\"width: 100px;\" src=\"udea_escudo.png\">\n",
    "\n",
    "# Parcial 1 - Sistemas de Control Continuo - 2024-1\n",
    "### Juan José Díaz - Kevin Jimenez Rincón\n",
    "CC. 1001456540 - 1001345384"
   ]
  },
  {
   "cell_type": "markdown",
   "metadata": {},
   "source": [
    "# Librerías"
   ]
  },
  {
   "cell_type": "code",
   "execution_count": 1,
   "metadata": {},
   "outputs": [],
   "source": [
    "import numpy as np\n",
    "import matplotlib.pyplot as plt\n",
    "import control as ct\n",
    "from ipywidgets import interact\n",
    "from scipy.integrate import odeint, solve_ivp\n",
    "import sympy as smp\n",
    "\n",
    "#Librerías de Animación\n",
    "from matplotlib import animation\n",
    "from mpl_toolkits.mplot3d import Axes3D\n",
    "from matplotlib.animation import PillowWriter\n",
    "from matplotlib.patches import Circle"
   ]
  },
  {
   "cell_type": "markdown",
   "metadata": {},
   "source": [
    "# Ejercicio 1 \n",
    "\n",
    "<img align=\"center\" style=\"width: 1000px;\" src=\"Ejercicio1.png\">"
   ]
  },
  {
   "cell_type": "markdown",
   "metadata": {},
   "source": [
    "## Ecuaciones del Sistema\n",
    "\n",
    "$m_{1}\\ddot{y_{1}} + k_{1}y_{1} + b(\\dot{y_{1}} - \\dot{y_{2}}) = u_{1}$ para $m_{1}\\\\$\n",
    "$m_{2}\\ddot{y_{2}} + k_{2}y_{2} + b(\\dot{y_{2}} - \\dot{y_{1}}) = u_{2}$ para $m_{2}\\\\$\n",
    "\n",
    "## Variables de Estado\n",
    "\n",
    "$x_{1} = y_{1}\\\\$\n",
    "$x_{2} = \\dot{y_{1}}\\\\$\n",
    "$x_{3} = y_{2}\\\\$\n",
    "$x_{4} = \\dot{y_{2}}\\\\$\n",
    "\n",
    "## Ecuaciones de Estado\n",
    "\n",
    "$\\dot{x_{1}} = x_{2}\\\\$\n",
    "$\\dot{x_{2}} = \\frac{1}{m_{1}}(u_{1} - k_{1}x_{1} - b(x_{2} - x_{4}))\\\\$\n",
    "$\\dot{x_{3}} = x_{4}\\\\$\n",
    "$\\dot{x_{4}} = \\frac{1}{m_{2}}(u_{2} - k_{2}x_{3} - b(x_{4} - x_{2}))\\\\$\n",
    "\n",
    "## Espacio de Estados\n",
    "\n",
    "$\\begin{bmatrix} \\dot{x_{1}} \\\\ \\dot{x_{2}} \\\\ \\dot{x_{3}} \\\\ \\dot{x_{4}} \\end{bmatrix} = \\begin{bmatrix} 0 & 1 & 0 & 0 \\\\ -\\frac{k_{1}}{m_{1}} & -\\frac{b}{m_{1}} & 0 & \\frac{b}{m_{1}} \\\\ 0 & 0 & 0 & 1 \\\\ 0 & \\frac{b}{m_{2}} & -\\frac{k_{2}}{m_{2}} & -\\frac{b}{m_{2}} \\end{bmatrix} \\begin{bmatrix} x_{1} \\\\ x_{2} \\\\ x_{3} \\\\ x_{4} \\end{bmatrix} + \\begin{bmatrix} 0 & 0 \\\\ \\frac{1}{m_{1}} & 0 \\\\ 0 & 0 \\\\ 0 & \\frac{1}{m_{2}} \\end{bmatrix} \\begin{bmatrix} u_{1} \\\\ u_{2} \\end{bmatrix}$"
   ]
  },
  {
   "cell_type": "markdown",
   "metadata": {},
   "source": [
    "## Simulación para el Espacio de Estados"
   ]
  },
  {
   "cell_type": "markdown",
   "metadata": {},
   "source": [
    "En la simulación de este sistema se utiliza la funcion step_response para obtener la respuesta al escalón unitario del espacio de estados. Haciendo que las diferentes entradas del sistema correpondan al escalón."
   ]
  },
  {
   "cell_type": "code",
   "execution_count": 29,
   "metadata": {},
   "outputs": [],
   "source": [
    "def ssm1(k1,k2,m1,m2,b):\n",
    "    # Espacio de estados para el sistema del ejercicio 1\n",
    "    A = np.array([[0,1,0,0],[-k1/m1,-b/m1,0,b/m1],[0,0,0,1],[0,b/m2,-k2/m2,-b/m2]])\n",
    "    B = np.array([[0,0],[1/m1,0],[0,0],[0,1/m2]])\n",
    "    C = np.array([[1,0,0,0],[0,0,1,0]])\n",
    "    D = np.array([[0,0],[0,0]])\n",
    "    return(A,B,C,D)   "
   ]
  },
  {
   "cell_type": "code",
   "execution_count": 30,
   "metadata": {},
   "outputs": [
    {
     "data": {
      "application/vnd.jupyter.widget-view+json": {
       "model_id": "e9e8bcb07631420fb159eef4fe883c6c",
       "version_major": 2,
       "version_minor": 0
      },
      "text/plain": [
       "interactive(children=(IntSlider(value=5, description='k1', max=10), IntSlider(value=10, description='k2', max=…"
      ]
     },
     "metadata": {},
     "output_type": "display_data"
    }
   ],
   "source": [
    "X0 = [1, 0, 2, 0] # Condición inicial del Sistema [y1(0), y1'(0), y2(0), y2'(0)]\n",
    "\n",
    "@interact(k1=(0, 10), k2=(0, 10, 1), m1=(1, 10, 1), m2=(1, 10, 1), b=(0, 1, 0.1), tf=(10, 100, 10))\n",
    "\n",
    "def interactive_plot(k1=5, k2=10, m1=1, m2=5, b=0.3, tf=40):\n",
    "    \n",
    "    sys = ct.ss(*ssm1(k1, k2, m1, m2, b)) # Creación del sistema de espacio de estados\n",
    "    \n",
    "    time = np.linspace(0, tf, 10000)\n",
    "    tr, yout = ct.step_response(sys, time, X0) # Respuesta del sistema a una entrada escalón\n",
    "\n",
    "    y1 = yout[0, 0, :] + yout[0, 1, :]\n",
    "    y2 = yout[1, 0, :] + yout[1, 1, :]\n",
    "\n",
    "    fig, axs = plt.subplots(2, 1, figsize=(6, 6))\n",
    "\n",
    "    # Plot output 1\n",
    "    axs[0].plot(tr, yout[0, 0, :], label='$y_{1}$ from $u_{1}$')\n",
    "    axs[0].plot(tr, yout[0, 1, :], label='$y_{1}$ from $u_{2}$')\n",
    "    axs[0].plot(tr, y1, label='Total $y_{1}$')\n",
    "    axs[0].set_title('$y_{1}$')\n",
    "    axs[0].set_xlabel('t(s)')\n",
    "    axs[0].set_ylabel('Amplitud(m)')\n",
    "    axs[0].grid()\n",
    "    axs[0].legend()\n",
    "\n",
    "    # Plot output 2\n",
    "    axs[1].plot(tr, yout[1, 0, :], label='$y_{2}$ from $u_{1}$')\n",
    "    axs[1].plot(tr, yout[1, 1, :], label='$y_{2}$ from $u_{2}$')\n",
    "    axs[1].plot(tr, y2, label='Total $y_{2}$')\n",
    "    axs[1].set_title('$y_{2}$')\n",
    "    axs[1].set_xlabel('t(s)')\n",
    "    axs[1].set_ylabel('Amplitud(m)')\n",
    "    axs[1].grid()\n",
    "    axs[1].legend()\n",
    "\n",
    "    plt.tight_layout()\n",
    "    plt.show()\n"
   ]
  },
  {
   "cell_type": "markdown",
   "metadata": {},
   "source": [
    "## Animación de la Solución"
   ]
  },
  {
   "cell_type": "code",
   "execution_count": 31,
   "metadata": {},
   "outputs": [],
   "source": [
    "# Valores de Solución\n",
    "\n",
    "X0 = [1, 0, 2, 0] # Condiciones iniciales del Sistema [y1(0), y1'(0), y2(0), y2'(0)]\n",
    "\n",
    "k1 = 5\n",
    "k2 = 10\n",
    "m1 = 1\n",
    "m2 = 2\n",
    "b = 0.3\n",
    "tf = 40\n",
    "\n",
    "sys = ct.ss(*ssm1(k1, k2, m1, m2, b)) # Creación del sistema de espacio de estados\n",
    "\n",
    "time = np.linspace(0, tf, 1001)\n",
    "tr, yout = ct.step_response(sys, time, X0) # Respuesta del sistema a una entrada escalón\n",
    "\n",
    "y1 = yout[0, 0, :] + yout[0, 1, :]\n",
    "y2 = yout[1, 0, :] + yout[1, 1, :]\n"
   ]
  },
  {
   "cell_type": "code",
   "execution_count": 32,
   "metadata": {},
   "outputs": [
    {
     "data": {
      "image/png": "[encoded data removed]",
      "text/plain": [
       "<Figure size 600x600 with 1 Axes>"
      ]
     },
     "metadata": {},
     "output_type": "display_data"
    }
   ],
   "source": [
    "def animate1(i):\n",
    "    ln1.set_data([0, 0], [0, -y1[i]])\n",
    "    ln2.set_data([1, 1], [0, -y2[i]])\n",
    "    \n",
    "fig, ax = plt.subplots(1,1, figsize=(6,6))\n",
    "ax.set_facecolor('k')\n",
    "ax.get_xaxis().set_ticks([])    # enable this to hide x axis ticks\n",
    "ax.get_yaxis().set_ticks([])    # enable this to hide y axis ticks\n",
    "\n",
    "ln1, = plt.plot([], [], 'bo--', lw=3, markersize=8)\n",
    "ln2, = plt.plot([], [], 'ro--', lw=3, markersize=8)\n",
    "\n",
    "ax.set_ylim(-5,5)\n",
    "ax.set_xlim(-4,5)\n",
    "\n",
    "ani1 = animation.FuncAnimation(fig, animate1, frames=1000, interval=50)\n",
    "\n",
    "ani1.save('Ex1.gif',writer='pillow',fps=25)"
   ]
  },
  {
   "cell_type": "markdown",
   "metadata": {},
   "source": [
    "# Ejercicio 2\n",
    "\n",
    "<img align=\"center\" style=\"width: 1000px;\" src=\"Ejercicio2.png\">"
   ]
  },
  {
   "cell_type": "markdown",
   "metadata": {},
   "source": [
    "## Sistema Polea - Masa - Resorte\n",
    "\n",
    "### Ecuaciones para la masa en equilibrio estático ($mg - k\\delta = 0$)\n",
    "\n",
    "$\\sum{F} = m\\ddot{x}  $   →    $m\\ddot{x} = mg -T$\n",
    "\n",
    "$T = ky$   →    $ky = kx + k\\delta$\n",
    "\n",
    "$mg - kx - k\\delta = m\\ddot{x}$\n",
    "\n",
    "$m\\ddot{x} = -kx$\n",
    "\n",
    "\n",
    "### Ecuaciones para la polea \n",
    "\n",
    "$\\sum{\\Tau} = J\\ddot{\\theta}  $   →    $J\\ddot{\\theta} = TR -kyR$\n",
    "\n",
    "Reemplazo en la ecuación de la Polea: $T = mg - m\\ddot{x}$ y $ky = kx + k\\delta$\n",
    "\n",
    "$J\\ddot{\\theta} = (mg - m\\ddot{x})R + (kx + k\\delta)R$\n",
    "\n",
    "Equilibrio estático: $mg = -k\\delta$\n",
    "\n",
    "$J\\ddot{\\theta} = -m\\ddot{x}R + kxR$\n",
    "\n",
    "\n",
    "Ecuaciónes de ligadura: $x = R\\theta$ y $\\ddot{x} = R\\ddot{\\theta}$\n",
    "\n",
    "$J\\ddot{\\theta} = -m\\ddot{\\theta}R^{2} -k\\theta R^{2}$\n",
    "\n",
    "$J\\ddot{\\theta} + m\\ddot{\\theta}R^{2} + k\\theta R^{2} = 0$\n",
    "\n",
    "$(J+ mR^{2})\\ddot{\\theta} + kR^{2}\\theta = 0$\n",
    "\n",
    "$\\ddot{\\theta} + \\frac{kR^{2}}{J+ mR^{2}}\\theta = 0$ →  Frecuencia Natural $w_{n}^{2} = \\frac{kR^{2}}{J+ mR^{2}}$\n",
    "\n",
    "\n",
    "## Variables de Estado\n",
    "\n",
    "$x_{1} = \\theta$\n",
    "\n",
    "$x_{2} = \\dot{\\theta}$\n",
    "\n",
    "## Ecuaciones de Estado\n",
    "\n",
    "$\\dot{x_{1}} = x_{2}$\n",
    "\n",
    "$\\dot{x_{2}} = -\\frac{kR^{2}}{J+ mR^{2}}x_{1}$\n",
    "\n"
   ]
  },
  {
   "cell_type": "markdown",
   "metadata": {},
   "source": [
    "## Simulación con Odeint"
   ]
  },
  {
   "cell_type": "code",
   "execution_count": 14,
   "metadata": {},
   "outputs": [],
   "source": [
    "def dXdt(X, t, k, m, R, J):\n",
    "    x1, x2 = X\n",
    "    dx1 = x2\n",
    "    dx2 = (-k*R**2)/(J + m*R**2)*x1\n",
    "    return [dx1, dx2]"
   ]
  },
  {
   "cell_type": "code",
   "execution_count": 15,
   "metadata": {},
   "outputs": [
    {
     "data": {
      "application/vnd.jupyter.widget-view+json": {
       "model_id": "56342d310f3b4bc4a080910615e6f297",
       "version_major": 2,
       "version_minor": 0
      },
      "text/plain": [
       "interactive(children=(IntSlider(value=10, description='k', max=20, step=2), IntSlider(value=1, description='m'…"
      ]
     },
     "metadata": {},
     "output_type": "display_data"
    }
   ],
   "source": [
    "@interact(k=(0, 20, 2), m=(1, 5, 1), R=(1, 5, 1), J=(1, 10, 1), tf=(10, 100, 10))\n",
    "\n",
    "def interactive_plot( k = 10, m = 1, R = 1, J = 1, tf = 20):\n",
    "\n",
    "    time = np.linspace(0, tf, 1001)\n",
    "    X0 = [np.pi/2, 0] # [the(0), the'(0)]\n",
    "    \n",
    "    ans = odeint(dXdt, y0 = X0, t=time, args=(k,m,R,J))\n",
    "\n",
    "    the = ans.T[0] # theta en función del tiempo \n",
    "\n",
    "    x = R*the # x en función del tiempo\n",
    "\n",
    "    \n",
    "    plt.plot(time, x)\n",
    "    plt.xlabel('t(s)')\n",
    "    plt.ylabel('X(t)')\n",
    "    plt.title('Sistema Masa Polea Resorte en función del tiempo')\n",
    "    plt.grid()\n",
    "    plt.show()"
   ]
  },
  {
   "cell_type": "markdown",
   "metadata": {},
   "source": [
    "## Animación de la Solución"
   ]
  },
  {
   "cell_type": "code",
   "execution_count": 35,
   "metadata": {},
   "outputs": [],
   "source": [
    "# Parámetros de la Solución\n",
    "\n",
    "k = 10\n",
    "m = 1\n",
    "R = 1\n",
    "J = 1\n",
    "tf = 20\n",
    "\n",
    "\n",
    "time = np.linspace(0, tf, 1001)\n",
    "X0 = [np.pi/2, 0] # [the(0), the'(0)]\n",
    "\n",
    "ans = odeint(dXdt, y0 = X0, t=time, args=(k,m,R,J))\n",
    "\n",
    "the = ans.T[0] # theta en función del tiempo\n",
    "thet = np.pi/2 + the\n",
    "xt,yt = R*np.cos(thet), R*np.sin(thet)\n",
    "\n",
    "x = R*the # x en función del tiempo"
   ]
  },
  {
   "cell_type": "code",
   "execution_count": 36,
   "metadata": {},
   "outputs": [
    {
     "data": {
      "image/png": "[encoded data removed]",
      "text/plain": [
       "<Figure size 600x600 with 1 Axes>"
      ]
     },
     "metadata": {},
     "output_type": "display_data"
    }
   ],
   "source": [
    "def animate2(i):\n",
    "    ln1.set_data([-R, -R], [0, -3 -x[i]])\n",
    "    ln2.set_data([R, R], [x[i] -2 , -5])\n",
    "    ln3.set_data([R, R], [0, x[i] - 2])\n",
    "    ln4.set_data([0, xt[i]], [0, yt[i]])\n",
    "\n",
    "    circle.center = (0, 0)\n",
    "    \n",
    "fig, ax = plt.subplots(1,1, figsize=(6,6))\n",
    "ax.set_facecolor('k')\n",
    "\n",
    "\n",
    "circle = Circle((0, 0), R, fill=True, facecolor='y', edgecolor='y', lw=2)\n",
    "\n",
    "ax.get_xaxis().set_ticks([])    # enable this to hide x axis ticks\n",
    "ax.get_yaxis().set_ticks([])    # enable this to hide y axis ticks\n",
    "ax.add_patch(circle)\n",
    "\n",
    "ln1, = plt.plot([], [], 'bo--', lw=3, markersize=8)\n",
    "ln2, = plt.plot([], [], 'ro--', lw=3, markersize=8)\n",
    "ln3, = plt.plot([], [], 'bo--', lw=3, markersize=8)\n",
    "ln4, = plt.plot([], [], 'go--', lw=3, markersize=8)\n",
    "\n",
    "ax.set_ylim(-6,2)\n",
    "ax.set_xlim(-4,4)\n",
    "\n",
    "ani1 = animation.FuncAnimation(fig, animate2, frames=1000, interval=50)\n",
    "\n",
    "ani1.save('Ex2.gif',writer='pillow',fps=50)"
   ]
  },
  {
   "cell_type": "markdown",
   "metadata": {},
   "source": [
    "# Ejercicio 3 \n",
    "\n",
    "<img align=\"center\" style=\"width: 1000px;\" src=\"Ejercicio3.png\">"
   ]
  },
  {
   "cell_type": "markdown",
   "metadata": {},
   "source": [
    "## Péndulo Doble Ecuaciones del Sistema → 2 Grados de Libertad\n",
    "\n",
    "$\\textbf{Momentos de Inercia de cada Péndulo}$ → $J_{i} = m_{i}l_{i}^2$\n",
    "\n",
    "\n",
    "### Posición\n",
    "\n",
    "$x_{1} = l_{1}sen(\\theta_{1})\\\\$\n",
    "$y_{1} = -l_{1}cos(\\theta_{1})\\\\$\n",
    "$x_{2} = l_{1}sen(\\theta_{1}) + l_{2}sen(\\theta_{2})\\\\$\n",
    "$y_{2} = -l_{1}cos(\\theta_{1}) - l_{2}cos(\\theta_{2})\\\\$\n",
    "\n",
    "### Velocidad\n",
    "\n",
    "$\\dot{x_{1}} = l_{1}cos(\\theta_{1})\\dot{\\theta_{1}}\\\\$\n",
    "$\\dot{y_{1}} = l_{1}sen(\\theta_{1})\\dot{\\theta_{1}}\\\\$\n",
    "$\\dot{x_{2}} = l_{1}cos(\\theta_{1})\\dot{\\theta_{1}} + l_{2}cos(\\theta_{2})\\dot{\\theta_{2}}\\\\$\n",
    "$\\dot{y_{2}} = l_{1}sen(\\theta_{1})\\dot{\\theta_{1}} + l_{2}sen(\\theta_{2})\\dot{\\theta_{2}}\\\\$\n",
    "\n",
    "\n",
    "### Energía Potencial\n",
    "\n",
    "$V = m_{1}gy_{1} + m_{2}gy_{2} = m_{1}g(-l_{1}cos(\\theta_{1})) + m_{2}g(-l_{1}cos(\\theta_{1}) - l_{2}cos(\\theta_{2}))\\\\$\n",
    "\n",
    "### Energía Cinética\n",
    "\n",
    "$T = \\frac{1}{2}m_{1}v_{1}^2 + \\frac{1}{2}m_{2}v_{2}^2 + \\frac{1}{2}J_{1}\\dot{\\theta_{1}}^2 + \\frac{1}{2}J_{2}\\dot{\\theta_{2}}^2 = \\frac{1}{2}m_{1}(\\dot{x_{1}}^2 + \\dot{y_{1}}^2) + \\frac{1}{2}m_{2}(\\dot{x_{2}}^2 + \\dot{y_{2}}^2) + \\frac{1}{2}m_{1}l_{1}^2\\dot{\\theta_{1}}^2 + \\frac{1}{2}m_{2}l_{2}^2\\dot{\\theta_{2}}^2\\\\$\n",
    "\n",
    "<br>\n",
    "\n",
    "Y usando las siguientes identidades trigonométricas:\n",
    "\n",
    "$cos(\\theta_{1} - \\theta_{2}) = cos(\\theta_{1})cos(\\theta_{2}) + sen(\\theta_{1})sen(\\theta_{2})\\\\$\n",
    "$cos^{2}(\\theta) + sen^{2}(\\theta) = 1 \\\\$\n",
    "\n",
    "Se obtiene la siguiente ecuación de energía cinética:\n",
    "\n",
    "$T = m_{1}l_{1}^2\\dot{\\theta_{1}}^2 + m_{2}l_{2}^2\\dot{\\theta_{2}}^2 + \\frac{1}{2}m_{2}l_{1}^2\\dot{\\theta_{1}}^2 + m_{2}l_{1}l_{2}\\dot{\\theta_{1}}\\dot{\\theta_{2}}cos(\\theta_{1}-\\theta_{2})$\n",
    "\n",
    "<br>\n",
    "\n",
    "## Lagrangiano\n",
    "\n",
    "<div style=\"border: 2px solid white; padding: 10px; width: 90%;\">\n",
    "\n",
    "$L = T - V = m_{1}l_{1}^2\\dot{\\theta_{1}}^2 + m_{2}l_{2}^2\\dot{\\theta_{2}}^2 + \\frac{1}{2}m_{2}l_{1}^2\\dot{\\theta_{1}}^2 + m_{2}l_{1}l_{2}\\dot{\\theta_{1}}\\dot{\\theta_{2}}cos(\\theta_{1}-\\theta_{2}) + (m_{1} + m_{2})gl_{1}cos(\\theta_{1}) + m_{2}g(l_{2}cos(\\theta_{2}))\\\\$\n",
    "\n",
    "</div>\n",
    "\n",
    "### Ecuaciones de Euler-Lagrange\n",
    "\n",
    "$\\frac{d}{dt}(\\frac{\\partial L}{\\partial \\dot{q_{i}}}) - \\frac{\\partial L}{\\partial q_{i}} + \\frac{\\partial P}{\\partial \\dot{q_{i}}}= Q_{i}\\\\$\n",
    "\n",
    "$\\frac{\\partial P}{\\partial \\dot{q_{i}}} = 0$ → No existen fuerzas disipativas\n",
    "\n",
    "$Q_{i} = 0$ → No existen fuerzas externas\n",
    "\n",
    "$\\frac{d}{dt}(\\frac{\\partial L}{\\partial \\dot{q_{i}}}) - \\frac{\\partial L}{\\partial q_{i}} = 0\\\\$\n",
    "\n",
    "### Para $\\theta_{1}$ \n",
    "\n",
    "$\\frac{d}{dt}(\\frac{\\partial L}{\\partial \\dot{\\theta_{1}}}) - \\frac{\\partial L}{\\partial \\theta_{1}} = 0\\\\$\n",
    "\n",
    "$\\frac{\\partial L}{\\partial \\dot{\\theta_{1}}} = 2m_{1}l_{1}^2\\dot{\\theta_{1}} + m_{2}l_{1}^2\\dot{\\theta_{1}} + m_{2}l_{1}l_{2}\\dot{\\theta_{2}}cos(\\theta_{1}-\\theta_{2})\\\\$\n",
    "\n",
    "$\\frac{d}{dt}(\\frac{\\partial L}{\\partial \\dot{\\theta_{1}}}) = (2m_{1}+m_{2})l_{1}^2\\ddot{\\theta_{1}} + m_{2}l_{1}l_{2}\\ddot{\\theta_{2}}cos(\\theta_{1}-\\theta_{2}) - m_{2}l_{1}l_{2}\\dot{\\theta_{2}}sen(\\theta_{1}-\\theta_{2})(\\dot{\\theta_{1}} - \\dot{\\theta_{2}})\\\\$\n",
    "\n",
    "$\\frac{\\partial L}{\\partial \\theta_{1}} = -m_{2}l_{1}l_{2}\\dot{\\theta_{1}}\\dot{\\theta_{2}}sen(\\theta_{1}-\\theta_{2}) - (m_{1} + m_{2})gl_{1}sen(\\theta_{1})\\\\$\n",
    "\n",
    "Ecuación de Langrange para $\\theta_{1}\\\\$ \n",
    "\n",
    "<div style=\"border: 2px solid white; padding: 10px; width: 65%;\">\n",
    "\n",
    "$(2m_{1}+m_{2})l_{1}\\ddot{\\theta_{1}} + m_{2}l_{2}\\ddot{\\theta_{2}}cos(\\theta_{1}-\\theta_{2}) + m_{2}l_{2}\\dot{\\theta_{2}}^2sen(\\theta_{1}-\\theta_{2}) + (m_{1} + m_{2})gl_{1}sen(\\theta_{1}) = 0\\\\$\n",
    "\n",
    "</div>\n",
    "\n",
    "### Para $\\theta_{2}$\n",
    "\n",
    "$\\frac{d}{dt}(\\frac{\\partial L}{\\partial \\dot{\\theta_{2}}}) - \\frac{\\partial L}{\\partial \\theta_{2}} = 0\\\\$\n",
    "\n",
    "$\\frac{\\partial L}{\\partial \\dot{\\theta_{2}}} = 2m_{2}l_{2}^2\\dot{\\theta_{2}} + m_{2}l_{1}l_{2}\\dot{\\theta_{1}}cos(\\theta_{1}-\\theta_{2})\\\\$\n",
    "\n",
    "$\\frac{d}{dt}(\\frac{\\partial L}{\\partial \\dot{\\theta_{2}}}) = 2m_{2}l_{2}^2\\ddot{\\theta_{2}} + m_{2}l_{1}l_{2}\\ddot{\\theta_{1}}cos(\\theta_{1}-\\theta_{2}) - m_{2}l_{1}l_{2}\\dot{\\theta_{1}}sen(\\theta_{1}-\\theta_{2})(\\dot{\\theta_{1}} - \\dot{\\theta_{2}})\\\\$\n",
    "\n",
    "$\\frac{\\partial L}{\\partial \\theta_{2}} = m_{2}l_{1}l_{2}\\dot{\\theta_{1}}\\dot{\\theta_{2}}sen(\\theta_{1}-\\theta_{2}) - m_{2}gl_{2}sen(\\theta_{2})\\\\$\n",
    "\n",
    "Ecuación de Langrange para $\\theta_{2}\\\\$\n",
    "\n",
    "<div style=\"border: 2px solid white; padding: 10px; width: 60%;\">\n",
    "\n",
    "$2m_{2}l_{2}\\ddot{\\theta_{2}} + m_{2}l_{1}\\ddot{\\theta_{1}}cos(\\theta_{1}-\\theta_{2}) - m_{2}l_{1}\\dot{\\theta_{1}}^2sen(\\theta_{1}-\\theta_{2}) + m_{2}gsen(\\theta_{2}) = 0\\\\$\n",
    "\n",
    "</div>"
   ]
  },
  {
   "cell_type": "markdown",
   "metadata": {},
   "source": [
    "## Variables de Estado  \n",
    "\n",
    "$x_{1} = \\theta_{1}\\\\$\n",
    "$x_{2} = \\dot{\\theta_{1}}\\\\$\n",
    "$x_{3} = \\theta_{2}\\\\$\n",
    "$x_{4} = \\dot{\\theta_{2}}\\\\$\n",
    "\n",
    "## Ecuaciones de Estado\n",
    "\n",
    "$\\dot{x_{1}} = x_{2}\\\\$\n",
    "\n",
    "$\\dot{x_{2}} = - \\frac{m_{2}l_{2}}{(2m_{1}+m_{2})l_{1}}\\dot{x_{4}}cos(x_{1}-x_{3}) - \\frac{m_{2}l_{2}}{(2m_{1}+m_{2})l_{1}}x_{4}^2sen(x_{1}-x_{3}) - \\frac{m_{1}+m_{2}}{(2m_{1}+m_{2})l_{1}}gsen(x_{1})\\\\$\n",
    "\n",
    "$\\dot{x_{3}} = x_{4}\\\\$\n",
    "\n",
    "$\\dot{x_{4}} = -\\frac{l_{1}}{2l_{2}}\\dot{x_{2}}cos(x_{1}-x_{3}) + \\frac{l_{1}}{2l_{2}}x_{2}^2sen(x_{1}-x_{3}) - \\frac{g}{2l_{2}}sen(x_{3})\\\\$\n"
   ]
  },
  {
   "cell_type": "markdown",
   "metadata": {},
   "source": [
    "## Simulación con Variables Simbólicas Usando Sympy"
   ]
  },
  {
   "cell_type": "code",
   "execution_count": 37,
   "metadata": {},
   "outputs": [],
   "source": [
    "t, g = smp.symbols('t g')\n",
    "m1, m2 = smp.symbols('m1 m2')\n",
    "l1, l2 = smp.symbols('l1, l2')"
   ]
  },
  {
   "cell_type": "markdown",
   "metadata": {},
   "source": [
    "$\\theta_{1}$ y $\\theta_{2}$ dependen de otra variable simbólica $t$ por lo que se definen de la siguiente manera:"
   ]
  },
  {
   "cell_type": "code",
   "execution_count": 38,
   "metadata": {},
   "outputs": [],
   "source": [
    "the1, the2 = smp.symbols(r'\\theta_1, \\theta_2', cls=smp.Function)\n",
    "\n",
    "the1 = the1(t)\n",
    "the2 = the2(t)"
   ]
  },
  {
   "cell_type": "markdown",
   "metadata": {},
   "source": [
    "Definicición de las derivadas del tiempo de $\\theta_{1}$ y $\\theta_{2}$"
   ]
  },
  {
   "cell_type": "code",
   "execution_count": 39,
   "metadata": {},
   "outputs": [],
   "source": [
    "the1_d = smp.diff(the1, t)\n",
    "the2_d = smp.diff(the2, t)\n",
    "the1_dd = smp.diff(the1_d, t)\n",
    "the2_dd = smp.diff(the2_d, t)"
   ]
  },
  {
   "cell_type": "markdown",
   "metadata": {},
   "source": [
    "Ecuaciones de posición del sistema: $x_{1}$, $y_{1}$, $x_{2}$, $y_{2}$"
   ]
  },
  {
   "cell_type": "code",
   "execution_count": 40,
   "metadata": {},
   "outputs": [],
   "source": [
    "x1 = l1*smp.sin(the1)\n",
    "y1 = -l1*smp.cos(the1)\n",
    "x2 = l1*smp.sin(the1)+l2*smp.sin(the2)\n",
    "y2 = -l1*smp.cos(the1)-l2*smp.cos(the2)"
   ]
  },
  {
   "cell_type": "markdown",
   "metadata": {},
   "source": [
    "Ecuaciones de Energía Potencial y Cinética"
   ]
  },
  {
   "cell_type": "code",
   "execution_count": 41,
   "metadata": {},
   "outputs": [],
   "source": [
    "# Cinética\n",
    "T1 = 1/2 * m1 * (smp.diff(x1, t)**2 + smp.diff(y1, t)**2)\n",
    "T2 = 1/2 * m2 * (smp.diff(x2, t)**2 + smp.diff(y2, t)**2)\n",
    "T3 = 1/2 *m1 * l1**2 * the1_d**2\n",
    "T4 = 1/2 *m2 * l2**2 * the2_d**2\n",
    "T = T1+T2+T3+T4\n",
    "\n",
    "# Potencial\n",
    "V1 = m1 * g * y1\n",
    "V2 = m2 * g * y2\n",
    "\n",
    "# Lagrangiano\n",
    "L = T - V1 - V2"
   ]
  },
  {
   "cell_type": "code",
   "execution_count": 42,
   "metadata": {},
   "outputs": [
    {
     "data": {
      "text/latex": [
       "$\\displaystyle g l_{1} m_{1} \\cos{\\left(\\theta_{1}{\\left(t \\right)} \\right)} - g m_{2} \\left(- l_{1} \\cos{\\left(\\theta_{1}{\\left(t \\right)} \\right)} - l_{2} \\cos{\\left(\\theta_{2}{\\left(t \\right)} \\right)}\\right) + 0.5 l_{1}^{2} m_{1} \\left(\\frac{d}{d t} \\theta_{1}{\\left(t \\right)}\\right)^{2} + 0.5 l_{2}^{2} m_{2} \\left(\\frac{d}{d t} \\theta_{2}{\\left(t \\right)}\\right)^{2} + 0.5 m_{1} \\left(l_{1}^{2} \\sin^{2}{\\left(\\theta_{1}{\\left(t \\right)} \\right)} \\left(\\frac{d}{d t} \\theta_{1}{\\left(t \\right)}\\right)^{2} + l_{1}^{2} \\cos^{2}{\\left(\\theta_{1}{\\left(t \\right)} \\right)} \\left(\\frac{d}{d t} \\theta_{1}{\\left(t \\right)}\\right)^{2}\\right) + 0.5 m_{2} \\left(\\left(l_{1} \\sin{\\left(\\theta_{1}{\\left(t \\right)} \\right)} \\frac{d}{d t} \\theta_{1}{\\left(t \\right)} + l_{2} \\sin{\\left(\\theta_{2}{\\left(t \\right)} \\right)} \\frac{d}{d t} \\theta_{2}{\\left(t \\right)}\\right)^{2} + \\left(l_{1} \\cos{\\left(\\theta_{1}{\\left(t \\right)} \\right)} \\frac{d}{d t} \\theta_{1}{\\left(t \\right)} + l_{2} \\cos{\\left(\\theta_{2}{\\left(t \\right)} \\right)} \\frac{d}{d t} \\theta_{2}{\\left(t \\right)}\\right)^{2}\\right)$"
      ],
      "text/plain": [
       "g*l1*m1*cos(\\theta_1(t)) - g*m2*(-l1*cos(\\theta_1(t)) - l2*cos(\\theta_2(t))) + 0.5*l1**2*m1*Derivative(\\theta_1(t), t)**2 + 0.5*l2**2*m2*Derivative(\\theta_2(t), t)**2 + 0.5*m1*(l1**2*sin(\\theta_1(t))**2*Derivative(\\theta_1(t), t)**2 + l1**2*cos(\\theta_1(t))**2*Derivative(\\theta_1(t), t)**2) + 0.5*m2*((l1*sin(\\theta_1(t))*Derivative(\\theta_1(t), t) + l2*sin(\\theta_2(t))*Derivative(\\theta_2(t), t))**2 + (l1*cos(\\theta_1(t))*Derivative(\\theta_1(t), t) + l2*cos(\\theta_2(t))*Derivative(\\theta_2(t), t))**2)"
      ]
     },
     "execution_count": 42,
     "metadata": {},
     "output_type": "execute_result"
    }
   ],
   "source": [
    "L"
   ]
  },
  {
   "cell_type": "markdown",
   "metadata": {},
   "source": [
    "Ecuaciones de Lagrange"
   ]
  },
  {
   "cell_type": "code",
   "execution_count": 43,
   "metadata": {},
   "outputs": [],
   "source": [
    "LE1 = smp.diff(L, the1) - smp.diff(smp.diff(L, the1_d), t).simplify()\n",
    "LE2 = smp.diff(L, the2) - smp.diff(smp.diff(L, the2_d), t).simplify()"
   ]
  },
  {
   "cell_type": "markdown",
   "metadata": {},
   "source": [
    "Despejar las ecuaciones de Lagrange para $\\ddot{\\theta_{1}}$ y $\\ddot{\\theta_{2}}$ con LE1 y LE2 = 0"
   ]
  },
  {
   "cell_type": "code",
   "execution_count": 44,
   "metadata": {},
   "outputs": [],
   "source": [
    "sols = smp.solve([LE1, LE2], (the1_dd, the2_dd),\n",
    "                simplify=False, rational=False)"
   ]
  },
  {
   "cell_type": "markdown",
   "metadata": {},
   "source": [
    "Definir las ecuaciones de estado del sistema y convertir las expresiones simbólicas en funciones mediante `smp.lambdify`\n",
    "\n",
    "$\\dot{x_{1}} = x_{2}\\\\$\n",
    "\n",
    "$\\dot{x_{2}} = - \\frac{m_{2}l_{2}}{(2m_{1}+m_{2})l_{1}}\\dot{x_{4}}cos(x_{1}-x_{3}) - \\frac{m_{2}l_{2}}{(2m_{1}+m_{2})l_{1}}x_{4}^2sen(x_{1}-x_{3}) - \\frac{m_{1}+m_{2}}{(2m_{1}+m_{2})l_{1}}gsen(x_{1})\\\\$\n",
    "\n",
    "$\\dot{x_{3}} = x_{4}\\\\$\n",
    "\n",
    "$\\dot{x_{4}} = -\\frac{l_{1}}{2l_{2}}\\dot{x_{2}}cos(x_{1}-x_{3}) + \\frac{l_{1}}{2l_{2}}x_{2}^2sen(x_{1}-x_{3}) - \\frac{g}{2l_{2}}sen(x_{3})\\\\$"
   ]
  },
  {
   "cell_type": "code",
   "execution_count": 45,
   "metadata": {},
   "outputs": [],
   "source": [
    "dx1 = smp.lambdify(the1_d, the1_d)\n",
    "dx2 = smp.lambdify((t,g,m1,m2,l1,l2,the1,the2,the1_d,the2_d), sols[the1_dd])\n",
    "dx3 = smp.lambdify(the2_d, the2_d)\n",
    "dx4 = smp.lambdify((t,g,m1,m2,l1,l2,the1,the2,the1_d,the2_d), sols[the2_dd])"
   ]
  },
  {
   "cell_type": "markdown",
   "metadata": {},
   "source": [
    "Definir el sistema de ecuaciones diferenciales de Primer Orden"
   ]
  },
  {
   "cell_type": "code",
   "execution_count": 46,
   "metadata": {},
   "outputs": [],
   "source": [
    "def dSdt(S, t, g, m1, m2, l1, l2):\n",
    "    the1, z1, the2, z2 = S\n",
    "    return [\n",
    "        dx1(z1),\n",
    "        dx2(t, g, m1, m2, l1, l2, the1, the2, z1, z2),\n",
    "        dx3(z2),\n",
    "        dx4(t, g, m1, m2, l1, l2, the1, the2, z1, z2),\n",
    "    ]"
   ]
  },
  {
   "cell_type": "markdown",
   "metadata": {},
   "source": [
    "Función para obtener las Posiciones (X,Y) de las masas $m{1}$ y $m{2}$ usando $\\theta$ y l"
   ]
  },
  {
   "cell_type": "code",
   "execution_count": 47,
   "metadata": {},
   "outputs": [],
   "source": [
    "def pol2rect(the1, the2, l1, l2):\n",
    "    x1 = l1*np.sin(the1)\n",
    "    y1 = -l1*np.cos(the1)\n",
    "    x2 = l1*np.sin(the1) + l2*np.sin(the2)\n",
    "    y2 = -l1*np.cos(the1) - l2*np.cos(the2)\n",
    "    return (x1, y1, x2, y2)"
   ]
  },
  {
   "cell_type": "markdown",
   "metadata": {},
   "source": [
    "Solución interactiva"
   ]
  },
  {
   "cell_type": "code",
   "execution_count": 48,
   "metadata": {},
   "outputs": [
    {
     "data": {
      "application/vnd.jupyter.widget-view+json": {
       "model_id": "4a03863195e148c69c0b69d6f3d6d4d5",
       "version_major": 2,
       "version_minor": 0
      },
      "text/plain": [
       "interactive(children=(IntSlider(value=4, description='l1', max=5), IntSlider(value=1, description='l2', max=5)…"
      ]
     },
     "metadata": {},
     "output_type": "display_data"
    }
   ],
   "source": [
    "@interact(l1=(0, 5, 1), l2=(0, 5, 1), m1=(1, 10, 1), m2=(1, 10, 1), g=(1, 10, 1), tf=(10, 100, 10))\n",
    "\n",
    "def interactive_plot( l1 = 4, l2 = 1, m1=2, m2=10, g = 9.81, tf = 40):\n",
    "\n",
    "    time = np.linspace(0, tf, 1001)\n",
    "    X0 = [1, -3, -1, 5] # [the1, z1, the2, z2]\n",
    "    \n",
    "    ans = odeint(dSdt, y0 = X0, t=time, args=(g,m1,m2,l1,l2))\n",
    "\n",
    "    the1 = ans.T[0] # theta1 en función del tiempo → ans.T[1] y ans.T[3] son las velocidades angulares\n",
    "    the2 = ans.T[2] # theta2 en función del tiempo \n",
    "\n",
    "    x1, y1, x2, y2 = pol2rect(the1,the2, l1, l2)\n",
    "\n",
    "    \n",
    "    \n",
    "    plt.plot(x1, y1, label='Péndulo 1')\n",
    "    plt.plot(x2, y2, label='Péndulo 2')\n",
    "    plt.legend()\n",
    "    plt.xlim(-6,6)\n",
    "    plt.ylim(-6,6)\n",
    "    plt.xlabel('X(t)')\n",
    "    plt.ylabel('Y(t)')\n",
    "    plt.title('Posiciones de las masas $m_1$ y $m_2$ en función del tiempo')\n",
    "    plt.grid()\n",
    "    plt.show()\n"
   ]
  },
  {
   "cell_type": "markdown",
   "metadata": {},
   "source": [
    "## Animación de la Respuesta del Sistema\n"
   ]
  },
  {
   "cell_type": "code",
   "execution_count": 49,
   "metadata": {},
   "outputs": [],
   "source": [
    "# Parámetros de la solución\n",
    "g = 9.81\n",
    "m1=2\n",
    "m2=1\n",
    "l1 = 2\n",
    "l2 = 1\n",
    "tf = 40\n",
    "\n",
    "#Cálculo con Odeint\n",
    "\n",
    "time = np.linspace(0, tf, 1001)\n",
    "X0 = [1, -3, -1, 5] # [the1, z1, the2, z2]\n",
    "ans = odeint(dSdt, y0 = X0, t=time, args=(g,m1,m2,l1,l2))\n",
    "\n",
    "the1 = ans.T[0] # theta1 en función del tiempo → ans.T[1] y ans.T[3] son las velocidades angulares\n",
    "the2 = ans.T[2] # theta2 en función del tiempo \n",
    "\n",
    "x1, y1, x2, y2 = pol2rect(the1,the2, l1, l2)"
   ]
  },
  {
   "cell_type": "code",
   "execution_count": 50,
   "metadata": {},
   "outputs": [
    {
     "data": {
      "image/png": "[encoded data removed]",
      "text/plain": [
       "<Figure size 600x600 with 1 Axes>"
      ]
     },
     "metadata": {},
     "output_type": "display_data"
    }
   ],
   "source": [
    "def animate3(i):\n",
    "    ln1.set_data([0, x1[i]], [0, y1[i]])\n",
    "    ln2.set_data([x1[i], x2[i]], [y1[i], y2[i]])\n",
    "    \n",
    "fig, ax = plt.subplots(1,1, figsize=(6,6))\n",
    "ax.set_facecolor('k')\n",
    "ax.get_xaxis().set_ticks([])    # enable this to hide x axis ticks\n",
    "ax.get_yaxis().set_ticks([])    # enable this to hide y axis ticks\n",
    "ln1, = plt.plot([], [], 'bo--', lw=3, markersize=8)\n",
    "ln2, = plt.plot([], [], 'ro--', lw=3, markersize=8)\n",
    "ax.set_ylim(-4,4)\n",
    "ax.set_xlim(-4,4)\n",
    "ani = animation.FuncAnimation(fig, animate3, frames=1000, interval=50)\n",
    "ani.save('Ex3.gif',writer='pillow',fps=25)"
   ]
  },
  {
   "cell_type": "markdown",
   "metadata": {},
   "source": [
    "# Ejercicio 4\n",
    "\n",
    "<img align=\"center\" style=\"width: 1000px;\" src=\"Ejercicio4.png\">"
   ]
  },
  {
   "cell_type": "markdown",
   "metadata": {},
   "source": [
    "## Condicion Inicial:\n",
    "\n",
    "<img align=\"center\" style=\"width: 400px;\" src=\"prev.png\">\n",
    "\n",
    "$i(0) = i(0^{-}) = i(0^{+})\\\\$\n",
    "\n",
    "$i(0^{-}) = \\frac{E}{R_{1}+R_{2}} = i(0)$\n",
    "\n",
    "## Solución para t ≥ 0: Ley de Mallas\n",
    "\n",
    "$-E + L\\frac{di(t)}{dt} + i(t)R_{1} = 0 $    &nbsp;&nbsp;&nbsp;    → $L\\frac{di(t)}{dt} = E - i(t)R_{1}\\\\$\n",
    "\n",
    "$\\frac{di(t)}{dt} = -\\frac{R_{1}}{L}(i(t) - \\frac{E}{R_{1}})\\\\$\n",
    "\n",
    "$\\int_{i(0)}^{i(t)} \\frac{di(t)}{i -\\frac{E}{R_{1}}} = -\\frac{R_{1}}{L}\\int_{0}^{t} dt\\\\$\n",
    "\n",
    "## Solución de la Ecuación Diferencial\n",
    "\n",
    "$ln(i(t) - \\frac{E}{R_{1}}) - ln(i(0) - \\frac{E}{R_{1}}) = -\\frac{R_{1}}{L}t\\\\$\n",
    "\n",
    "$ln(\\frac{i(t) - \\frac{E}{R_{1}}}{i(0) - \\frac{E}{R_{1}}}) = -\\frac{R_{1}}{L}t\\\\$\n",
    "\n",
    "$i(t) = i(0)e^{-\\frac{R_{1}}{L}t} + \\frac{E}{R_{1}}(1 - e^{-\\frac{R_{1}}{L}t})$ → Reemplazando $i(0)\\\\$\n",
    "\n",
    "\n",
    "<div style=\"border: 2px solid white; padding: 10px; width: 20%;\">\n",
    "\n",
    "$i(t) = E\\frac{R_{2}}{R_{1}}(\\frac{1}{R_{2}} - \\frac{e^-{\\frac{R_{1}}{L}}t}{R_{1} + R_{2}})$\n",
    "\n",
    "</div>\n",
    "\n"
   ]
  },
  {
   "cell_type": "markdown",
   "metadata": {},
   "source": [
    "## Simulación\n",
    "\n",
    "Al resolver la ecuación diferencial, se obtiene la respuesta del sistema para t≥0 de manera analítica, por lo que la simulación consiste únicamente en trazar el gráfico de la respuesta temporal del sistema.\n",
    "\n",
    "$R_{1}$ y $R_{2}$ oscilan entre 100 $\\Omega$ y 10K $\\Omega$ \n",
    "\n",
    "$L$ oscila entre 1 y 10 mH \n",
    "\n",
    "$E$ oscila entre 1 y 10 V\n",
    "\n",
    "$t$ oscila entre 10 y 100 $\\mu$ s"
   ]
  },
  {
   "cell_type": "code",
   "execution_count": 51,
   "metadata": {},
   "outputs": [
    {
     "data": {
      "application/vnd.jupyter.widget-view+json": {
       "model_id": "c24969c1d9744687a9341c40c0200e0d",
       "version_major": 2,
       "version_minor": 0
      },
      "text/plain": [
       "interactive(children=(IntSlider(value=1, description='E', max=10), IntSlider(value=100, description='R1', max=…"
      ]
     },
     "metadata": {},
     "output_type": "display_data"
    }
   ],
   "source": [
    "@interact(E=(0, 10), R1=(100, 10000, 100), R2=(100, 10000, 100), L=(10, 100, 10 ), tf=(10, 100, 10))\n",
    "\n",
    "def interactive_plot(E=1, R1=100, R2=100, L=1, tf=1):\n",
    "    time = np.linspace(0, tf, 1000)\n",
    "    i = E * R2 / R1 * (1 / R2 - np.exp((-R1 / (L/10000)) * (time/1000000)) / (R1 + R2))\n",
    "    \n",
    "    plt.plot(time, i)\n",
    "    plt.xlabel('Time($\\mu$s)')\n",
    "    plt.ylabel('i(t)')\n",
    "    plt.title('Respuesta temporal i(t)')\n",
    "    plt.grid()\n",
    "    plt.show()\n"
   ]
  },
  {
   "cell_type": "markdown",
   "metadata": {},
   "source": [
    "# Ejercicio 5\n",
    "\n",
    "<img align=\"center\" style=\"width: 1000px;\" src=\"Ejercicio5.png\">"
   ]
  },
  {
   "cell_type": "markdown",
   "metadata": {},
   "source": [
    "## Ecuaciones del Sistema - Ley de Kirchhoff de Voltajes\n",
    "\n",
    "$-E + L(\\ddot{q_{1}}-\\ddot{q_{3}}) + \\frac{q_{1}-q_{2}}{C_{1}} = 0$\n",
    "\n",
    "$\\frac{q_{2}-q_{1}}{C_{1}} + R(\\dot{q_{2}}-\\dot{q_{3}}) + R\\dot{q_{2}} = 0$\n",
    "\n",
    "$\\frac{q_{3}}{C_{2}} + L(\\ddot{q_{3}} - \\ddot{q_{1}}) + R(\\dot{q_{3}} - \\dot{q_{2}}) = 0$\n",
    "\n",
    "$-E + \\frac{q_{3}}{C_{2}} + R\\dot{q_{2}} = 0$\n",
    "\n",
    "\n",
    "## Despejar las Ecuaciones del Sistema\n",
    "\n",
    "$\\ddot{q_{1}} = \\frac{1}{L}(E + \\frac{q_{2}-q_{1}}{C_{1}}) + \\ddot{q_{3}}$\n",
    "\n",
    "$\\dot{q_{2}} = \\frac{q_{1}-q_{2}}{2RC_{1}} + \\frac{\\dot{q_{3}}}{2}$\n",
    "\n",
    "$\\ddot{q_{3}} = \\ddot{q_{1}} -\\frac{\\dot{q_{3}}}{LC_{2}} + \\frac{R}{L}(\\dot{q_{2}} - \\dot{q_{3}})$\n",
    "\n",
    "## Despejado en Variables de Estado\n",
    "\n",
    "$x_{1} = q_{1}$\n",
    "\n",
    "$x_{2} = \\dot{q_{1}}$\n",
    "\n",
    "$x_{3} = q_{2}$\n",
    "\n",
    "\n",
    "$x_{4} = q_{3}$\n",
    "\n",
    "$x_{5} = \\dot{q_{3}}$\n",
    "\n",
    "## Ecuaciones de Estado\n",
    "\n",
    "$\\dot{x_{1}} = x_{2}$\n",
    "\n",
    "$\\dot{x_{2}} = \\frac{1}{L}(E - \\frac{x_{3}-x_{1}}{C_{1}}) +\\dot{x_{5}}$\n",
    "\n",
    "$\\dot{x_{3}} = \\frac{x_{1} - x_{3}}{2RC_{1}} + \\frac{{x_{5}}}{2}$\n",
    "\n",
    "$\\dot{x_{4}} = x_{5}$\n",
    "\n",
    "$\\dot{x_{5}} = \\dot{x_{2}} + \\frac{R}{L}(\\dot{x_{3}} - x_{5}) - \\frac{x_{5}}{LC_{2}}$\n"
   ]
  },
  {
   "cell_type": "markdown",
   "metadata": {},
   "source": [
    "## Solución con Métodos Numéricos \n",
    "\n"
   ]
  },
  {
   "cell_type": "code",
   "execution_count": 52,
   "metadata": {},
   "outputs": [],
   "source": [
    "# Para Runge Kutta y Odeint\n",
    "\n",
    "def dXdt(x, t, C1, C2, L, R, E):\n",
    "  dx = np.zeros((5,))\n",
    "  dx[0] = x[1]\n",
    "  dx[1] = (1/L)* (E + (x[2] - x[0])/C1) + dx[4]\n",
    "  dx[2] = x[4]/2 + (x[0] - x[2])/(2*R*C1)\n",
    "  dx[3] = x[4]\n",
    "  dx[4] = dx[1] + (R/L)*(dx[2] - x[4]) - (x[3])/(L*C2)\n",
    "  return dx"
   ]
  },
  {
   "cell_type": "code",
   "execution_count": 53,
   "metadata": {},
   "outputs": [],
   "source": [
    "#Para solve_ivp\n",
    "\n",
    "def dXdt2(t, x, C1, C2, L, R, E):\n",
    "  dx = np.zeros((5,))\n",
    "  dx[0] = x[1]\n",
    "  dx[1] = (1/L)* (E + (x[2] - x[0])/C1) + dx[4]\n",
    "  dx[2] = x[4]/2 + (x[0] - x[2])/(2*R*C1)\n",
    "  dx[3] = x[4]\n",
    "  dx[4] = dx[1] + (R/L)*(dx[2] - x[4]) - (x[3])/(L*C2)\n",
    "  return dx"
   ]
  },
  {
   "cell_type": "code",
   "execution_count": 54,
   "metadata": {},
   "outputs": [],
   "source": [
    "def runge_kutta_step(f, x, t, dt, *args):\n",
    "    k1 = f(x, t, *args)\n",
    "    k2 = f(x + 0.5*dt*k1, t + 0.5*dt, *args)\n",
    "    k3 = f(x + 0.5*dt*k2, t + 0.5*dt, *args)\n",
    "    k4 = f(x + dt*k3, t + dt, *args)\n",
    "    return x + (dt/6.0) * (k1 + 2*k2 + 2*k3 + k4)\n",
    "\n",
    "def solve_runge_kutta(f, x0, t, dt, *args):\n",
    "    num_steps = len(t)\n",
    "    num_vars = len(x0)\n",
    "    x = np.zeros((num_steps, num_vars))\n",
    "    x[0] = x0\n",
    "    for i in range(1, num_steps):\n",
    "        x[i] = runge_kutta_step(f, x[i-1], t[i-1], dt, *args)\n",
    "    return x"
   ]
  },
  {
   "cell_type": "code",
   "execution_count": 55,
   "metadata": {},
   "outputs": [
    {
     "data": {
      "application/vnd.jupyter.widget-view+json": {
       "model_id": "66d52c95760a41ffa44891f57d8c1d74",
       "version_major": 2,
       "version_minor": 0
      },
      "text/plain": [
       "interactive(children=(IntSlider(value=1, description='R', max=10, min=1), IntSlider(value=10, description='C1'…"
      ]
     },
     "metadata": {},
     "output_type": "display_data"
    }
   ],
   "source": [
    "@interact(R=(1, 10, 1), C1=(10, 100, 10), C2=(10, 100, 1), L=(1, 10, 1), E=(1, 10, 1), tf=(1, 10, 1))\n",
    "\n",
    "def interactive_plot( R = 1, C1 = 10, C2 = 10, L = 1, E = 5, tf = 1):\n",
    "\n",
    "    R = 1000*R\n",
    "    C1 = C1/(10**6)\n",
    "    C2 = C2/(10**6)\n",
    "    L = L\n",
    "    tf = tf/10\n",
    "    \n",
    "    t = np.linspace(0, tf, 100001)\n",
    "    ts = t[:-1]\n",
    "    ts1 = ts[:-1]\n",
    "\n",
    "    dt = t[1] - t[0]\n",
    "\n",
    "\n",
    "    X0 = [0, 0, 0, 0, 0] # [q1, q1', q2, q3, q3']\n",
    "    \n",
    "    #ans = solve_runge_kutta(dXdt, X0, t, dt, C1, C2, L, R, E)\n",
    "    ans = odeint(dXdt, X0, t, args=(C1, C2, L, R, E))\n",
    "    #ans = solve_ivp(dXdt2, (0, tf), X0, args=(C1, C2, L, R, E), t_eval=t)\n",
    "\n",
    "    # Descomentar para solve_ivp\n",
    "\n",
    "    #q1 = ans.y[0]\n",
    "    #q2 = ans.y[2]\n",
    "    #q3 = ans.y[3]\n",
    "\n",
    "    q1 = ans.T[0]\n",
    "    q2 = ans.T[2]\n",
    "    q3 = ans.T[3]\n",
    "\n",
    "    i1 = np.diff(q1)/np.diff(t) \n",
    "    i2 = np.diff(q2)/np.diff(t)\n",
    "    i3 = np.diff(q3)/np.diff(t)\n",
    "\n",
    "    #Se integra numéricamente la corriente para el voltaje en el capacitor\n",
    "\n",
    "    Vc1 = np.cumsum(((i1-i2)/C1)*np.diff(t))\n",
    "    Vc2 = np.cumsum(((i3)/C2)*np.diff(t))\n",
    "    Vl = L*(np.diff(i1-i3)/np.diff(ts))\n",
    "\n",
    "    fig, axs = plt.subplots(3, 2, figsize=(8, 8))\n",
    "    \n",
    "    # Corriente 1\n",
    "    axs[0][0].plot(ts, i1)\n",
    "    axs[0][0].set_title('$i_{1}$')\n",
    "    axs[0][0].set_xlabel('t(s)')\n",
    "    axs[0][0].set_ylabel('Corriente(A)')\n",
    "    axs[0][0].grid()\n",
    "\n",
    "    # Corriente 2\n",
    "    axs[1][0].plot(ts, i2)\n",
    "    axs[1][0].set_title('$i_{2}$')\n",
    "    axs[1][0].set_xlabel('t(s)')\n",
    "    axs[1][0].set_ylabel('Corriente(A)')\n",
    "    axs[1][0].grid()\n",
    "\n",
    "    # Corriente 3\n",
    "    axs[2][0].plot(ts, i3)\n",
    "    axs[2][0].set_title('$i_{3}$')\n",
    "    axs[2][0].set_xlabel('t(s)')\n",
    "    axs[2][0].set_ylabel('Corriente(A)')\n",
    "    axs[2][0].grid()\n",
    "\n",
    "    # Voltaje en el capacitor 1\n",
    "    axs[0][1].plot(ts, Vc1)\n",
    "    axs[0][1].set_title('$VC_{1}$')\n",
    "    axs[0][1].set_xlabel('t(s)')\n",
    "    axs[0][1].set_ylabel('Voltaje(V)')\n",
    "    axs[0][1].grid()\n",
    "\n",
    "    # Voltaje en el Capacitor 2\n",
    "    axs[1][1].plot(ts, Vc2)\n",
    "    axs[1][1].set_title('$VC_{2}$')\n",
    "    axs[1][1].set_xlabel('t(s)')\n",
    "    axs[1][1].set_ylabel('Voltaje(V)')\n",
    "    axs[1][1].grid()\n",
    "\n",
    "    # Voltaje en el inductor\n",
    "    axs[2][1].plot(ts1, Vl)\n",
    "    axs[2][1].set_title('$V_{L}$')\n",
    "    axs[2][1].set_xlabel('t(s)')\n",
    "    axs[2][1].set_ylabel('Voltaje(V)')\n",
    "    axs[2][1].grid()\n",
    "\n",
    "    plt.tight_layout()\n",
    "    plt.show()"
   ]
  },
  {
   "cell_type": "markdown",
   "metadata": {},
   "source": [
    "# Ejercicio 6\n",
    "\n",
    "<img align=\"center\" style=\"width: 1000px;\" src=\"Ejercicio6.png\"> "
   ]
  },
  {
   "cell_type": "markdown",
   "metadata": {},
   "source": [
    "## Sistema de Péndulo Elástico \n",
    "\n",
    "### Relación de la posición de la masa\n",
    "\n",
    "$l(t) = l_{o} + x(t)\\\\$\n",
    "\n",
    "El movimiento de la masa m se puede definir mediant sus vectores tangencial y normal del movimiento pendular: $ê_{r}$ y $ê_{\\theta}$\n",
    "\n",
    "$v(t)^2 = v_{r}^2 + v_{\\theta}^2$\n",
    "\n",
    "### Ecuaciones de Energía\n",
    "\n",
    "#### Energía Potencial\n",
    "\n",
    "$V = -mglcos(\\theta) + \\frac{1}{2}kx^2 = -mg(l_{o} + x)cos(\\theta) + \\frac{1}{2}kx^2 $\n",
    "\n",
    "#### Energía Cinética\n",
    "\n",
    "$T = \\frac{1}{2}mv^2 = \\frac{1}{2}m(v_{r}^2 + v_{\\theta}^2) = \\frac{1}{2}m(\\dot{x}^2 + (l\\dot{\\theta}^2))$\n",
    "\n",
    "$T = \\frac{1}{2}m(\\dot{x}^2 + (l_{o} + x)^2\\dot{\\theta}^2)$\n",
    "\n",
    "### Lagrangiano\n",
    "\n",
    "$L = T - V = \\frac{1}{2}m(\\dot{x}^2 + (l_{o} + x)^2\\dot{\\theta}^2) + mg(l_{o} + x)cos(\\theta) - \\frac{1}{2}kx^2$\n",
    "\n",
    "### Ecuaciones de Euler-Lagrange\n",
    "\n",
    "$\\frac{d}{dt}(\\frac{\\partial L}{\\partial \\dot{q_{i}}}) - \\frac{\\partial L}{\\partial q_{i}} + \\frac{\\partial P}{\\partial \\dot{q_{i}}}= Q_{i}\\\\$\n",
    "\n",
    "$\\frac{\\partial P}{\\partial \\dot{q_{i}}} = 0$ → No existen fuerzas disipativas\n",
    "\n",
    "$Q_{i} = 0$ → No existen fuerzas externas\n",
    "\n",
    "$\\frac{d}{dt}(\\frac{\\partial L}{\\partial \\dot{q_{i}}}) - \\frac{\\partial L}{\\partial q_{i}} = 0\\\\$\n",
    "\n",
    "Para x\n",
    "\n",
    "$\\frac{d}{dt}(\\frac{\\partial L}{\\partial \\dot{x}}) - \\frac{\\partial L}{\\partial x} = 0\\\\$\n",
    "\n",
    "$\\frac{\\partial L}{\\partial \\dot{x}} = m\\dot{x}\\\\$\n",
    "\n",
    "$\\frac{d}{dt}(\\frac{\\partial L}{\\partial \\dot{x}}) = m\\ddot{x}\\\\$\n",
    "\n",
    "$\\frac{\\partial L}{\\partial x} = m(l_{o} + x)\\dot{\\theta}^2 +mgcos(\\theta) - kx$\n",
    "\n",
    "Ecuación de Lagrange para x\n",
    "\n",
    "$m\\ddot{x} - m(l_{o} + x)\\dot{\\theta}^2 - mgcos(\\theta) + kx = 0$\n",
    "\n",
    "Para $\\theta$\n",
    "\n",
    "$\\frac{d}{dt}(\\frac{\\partial L}{\\partial \\dot{\\theta}}) - \\frac{\\partial L}{\\partial \\theta} = 0\\\\$\n",
    "\n",
    "$\\frac{\\partial L}{\\partial \\dot{\\theta}} = m(l_{o} + x)^2\\dot{\\theta}\\\\$\n",
    "\n",
    "$\\frac{d}{dt}(\\frac{\\partial L}{\\partial \\dot{\\theta}}) = m(l_{o} + x)^2\\ddot{\\theta} + 2m(l_{o} + x)\\dot{x}\\dot{\\theta}$\n",
    "\n",
    "$\\frac{\\partial L}{\\partial \\theta} = -mg(l_{o} + x)sen(\\theta)$\n",
    "\n",
    "Ecuación de Lagrange para $\\theta$\n",
    "\n",
    "$m(l_{o} + x)^2\\ddot{\\theta} + 2m(l_{o} + x)\\dot{x}\\dot{\\theta} + mg(l_{o} + x)sen(\\theta) = 0$\n",
    "\n",
    "$(l_{o} + x)^2\\ddot{\\theta} + 2(l_{o} + x)\\dot{x}\\dot{\\theta} + g(l_{o} + x)sen(\\theta) = 0$\n",
    "\n",
    "### Variables de Estado\n",
    "\n",
    "$x_{1} = x\\\\$\n",
    "$x_{2} = \\dot{x}\\\\$\n",
    "$x_{3} = \\theta\\\\$\n",
    "$x_{4} = \\dot{\\theta}\\\\$\n",
    "\n",
    "### Ecuaciones de Estado\n",
    "\n",
    "$\\dot{x_{1}} = x_{2}\\\\$\n",
    "\n",
    "$\\dot{x_{2}} = (l_{o} + x_{1})\\dot{x_{4}}^2 + gcos(x_{3}) - \\frac{k}{m}x_{1}\\\\$\n",
    "\n",
    "$\\dot{x_{3}} = x_{4}\\\\$\n",
    "\n",
    "$\\dot{x_{4}} = -2\\frac{x_{2}x_{4}}{l_{0}+x_{1}} - \\frac{g}{l_{0}+x_{1}}sen(x_{3})$\n",
    "\n",
    "\n",
    "\n"
   ]
  },
  {
   "cell_type": "markdown",
   "metadata": {},
   "source": [
    "## Simulación con Variables Simbólicas Usando Sympy\n"
   ]
  },
  {
   "cell_type": "code",
   "execution_count": 2,
   "metadata": {},
   "outputs": [],
   "source": [
    "t, g = smp.symbols('t g')\n",
    "m = smp.symbols('m')\n",
    "k = smp.symbols('k')\n",
    "lo = smp.symbols('lo')"
   ]
  },
  {
   "cell_type": "markdown",
   "metadata": {},
   "source": [
    "x y $\\theta$ dependen de otra variable simbólica $t$ por lo que se definen de la siguiente manera:"
   ]
  },
  {
   "cell_type": "code",
   "execution_count": 3,
   "metadata": {},
   "outputs": [],
   "source": [
    "x = smp.symbols('x', cls=smp.Function)\n",
    "x = x(t)\n",
    "\n",
    "the = smp.symbols(r'\\theta', cls=smp.Function)\n",
    "the = the(t)"
   ]
  },
  {
   "cell_type": "markdown",
   "metadata": {},
   "source": [
    "Primeras y segundas derivadas del tiempo de x y $\\theta$\n",
    "\n"
   ]
  },
  {
   "cell_type": "code",
   "execution_count": 4,
   "metadata": {},
   "outputs": [],
   "source": [
    "x_d = smp.diff(x, t)\n",
    "x_dd = smp.diff(x_d, t)\n",
    "\n",
    "the_d = smp.diff(the, t)\n",
    "the_dd = smp.diff(the_d, t)"
   ]
  },
  {
   "cell_type": "markdown",
   "metadata": {},
   "source": [
    "Ecuaciones de energía potencial y cinética"
   ]
  },
  {
   "cell_type": "code",
   "execution_count": 5,
   "metadata": {},
   "outputs": [],
   "source": [
    "# Cinética\n",
    "T1 = 1/2 * m * x_d**2 \n",
    "T2 = 1/2 * m * (lo + x)**2 * the_d**2\n",
    "T = T1 + T2\n",
    "\n",
    "# Potencial\n",
    "V1 = -m * g * (lo + x) * smp.cos(the)\n",
    "V2 = 1/2 *k*x**2\n",
    "V = V1 + V2\n",
    "\n",
    "# Lagrangiano\n",
    "L = T - V"
   ]
  },
  {
   "cell_type": "code",
   "execution_count": 6,
   "metadata": {},
   "outputs": [
    {
     "data": {
      "text/latex": [
       "$\\displaystyle g m \\left(lo + x{\\left(t \\right)}\\right) \\cos{\\left(\\theta{\\left(t \\right)} \\right)} - 0.5 k x^{2}{\\left(t \\right)} + 0.5 m \\left(lo + x{\\left(t \\right)}\\right)^{2} \\left(\\frac{d}{d t} \\theta{\\left(t \\right)}\\right)^{2} + 0.5 m \\left(\\frac{d}{d t} x{\\left(t \\right)}\\right)^{2}$"
      ],
      "text/plain": [
       "g*m*(lo + x(t))*cos(\\theta(t)) - 0.5*k*x(t)**2 + 0.5*m*(lo + x(t))**2*Derivative(\\theta(t), t)**2 + 0.5*m*Derivative(x(t), t)**2"
      ]
     },
     "execution_count": 6,
     "metadata": {},
     "output_type": "execute_result"
    }
   ],
   "source": [
    "L"
   ]
  },
  {
   "cell_type": "markdown",
   "metadata": {},
   "source": [
    "Ecuaciones de Lagrange"
   ]
  },
  {
   "cell_type": "code",
   "execution_count": 7,
   "metadata": {},
   "outputs": [],
   "source": [
    "LE1 = smp.diff(L, x) - smp.diff(smp.diff(L, x_d), t).simplify()\n",
    "LE2 = smp.diff(L, the) - smp.diff(smp.diff(L, the_d), t).simplify()"
   ]
  },
  {
   "cell_type": "markdown",
   "metadata": {},
   "source": [
    "Despejar las de las ecuaciones de Lagrange para $\\ddot{x}$ y $\\ddot{\\theta}$ con LE1 y LE2 = 0"
   ]
  },
  {
   "cell_type": "code",
   "execution_count": 8,
   "metadata": {},
   "outputs": [],
   "source": [
    "sols = smp.solve([LE1, LE2], (x_dd, the_dd),\n",
    "                simplify=False, rational=False)"
   ]
  },
  {
   "cell_type": "code",
   "execution_count": 9,
   "metadata": {},
   "outputs": [
    {
     "data": {
      "text/latex": [
       "$\\displaystyle 1.0 g \\cos{\\left(\\theta{\\left(t \\right)} \\right)} - \\frac{1.0 k x{\\left(t \\right)}}{m} + 1.0 lo \\left(\\frac{d}{d t} \\theta{\\left(t \\right)}\\right)^{2} + 1.0 x{\\left(t \\right)} \\left(\\frac{d}{d t} \\theta{\\left(t \\right)}\\right)^{2}$"
      ],
      "text/plain": [
       "1.0*g*cos(\\theta(t)) - 1.0*k*x(t)/m + 1.0*lo*Derivative(\\theta(t), t)**2 + 1.0*x(t)*Derivative(\\theta(t), t)**2"
      ]
     },
     "execution_count": 9,
     "metadata": {},
     "output_type": "execute_result"
    }
   ],
   "source": [
    "sols[x_dd]"
   ]
  },
  {
   "cell_type": "markdown",
   "metadata": {},
   "source": [
    "Escribir las ecuaciones de estado del sistema y conversión de las expresiones simbólicas en funciones mediante `smp.lambdify`\n",
    "\n",
    "$\\dot{x_{1}} = x_{2}\\\\$\n",
    "\n",
    "$\\dot{x_{2}} = (l_{o} + x_{1})\\dot{x_{4}}^2 + gcos(x_{3}) - \\frac{k}{m}x_{1}\\\\$\n",
    "\n",
    "$\\dot{x_{3}} = x_{4}\\\\$\n",
    "\n",
    "$\\dot{x_{4}} = -2\\frac{x_{2}x_{4}}{l_{0}+x_{1}} - \\frac{g}{l_{0}+x_{1}}sen(x_{3})$\n",
    "\n"
   ]
  },
  {
   "cell_type": "code",
   "execution_count": 10,
   "metadata": {},
   "outputs": [],
   "source": [
    "dx1 = smp.lambdify(x_d, x_d)\n",
    "dx2 = smp.lambdify((t,g,m,lo,k,x,x_d,the,the_d), sols[x_dd])\n",
    "dx3 = smp.lambdify(the_d, the_d)\n",
    "dx4 = smp.lambdify((t,g,m,lo,k,x,x_d,the,the_d), sols[the_dd])"
   ]
  },
  {
   "cell_type": "markdown",
   "metadata": {},
   "source": [
    "Sistema de ecuaciones diferenciales de Primer Orden"
   ]
  },
  {
   "cell_type": "code",
   "execution_count": 11,
   "metadata": {},
   "outputs": [],
   "source": [
    "def dXdt(S, t, g, m, lo, k):\n",
    "    x, z1, the, z2 = S\n",
    "    return [\n",
    "        dx1(z1),\n",
    "        dx2(t, g, m, lo, k, x, z1, the, z2),\n",
    "        dx3(z2),\n",
    "        dx4(t, g, m, lo, k, x, z1, the, z2),\n",
    "    ]"
   ]
  },
  {
   "cell_type": "markdown",
   "metadata": {},
   "source": [
    "Hallar las posiciones (X,Y) de las masa $m$ usando $\\theta$ y l"
   ]
  },
  {
   "cell_type": "code",
   "execution_count": 12,
   "metadata": {},
   "outputs": [],
   "source": [
    "def pol2rect(the, lo, x):\n",
    "    l = lo + x\n",
    "    x = l*np.sin(the)\n",
    "    y = -l*np.cos(the)\n",
    "    return (x,y)"
   ]
  },
  {
   "cell_type": "markdown",
   "metadata": {},
   "source": [
    "Solución interactiva del Sistema"
   ]
  },
  {
   "cell_type": "code",
   "execution_count": 13,
   "metadata": {},
   "outputs": [
    {
     "data": {
      "application/vnd.jupyter.widget-view+json": {
       "model_id": "1590ee26b320414f8a83084a33d0e55b",
       "version_major": 2,
       "version_minor": 0
      },
      "text/plain": [
       "interactive(children=(IntSlider(value=10, description='k', max=10, min=1), IntSlider(value=1, description='lo'…"
      ]
     },
     "metadata": {},
     "output_type": "display_data"
    }
   ],
   "source": [
    "@interact(k=(1, 10, 1), lo=(0, 5, 1), m=(1, 10, 1), g=(1, 10, 1), tf=(10, 1000, 100))\n",
    "\n",
    "def interactive_plot( k = 10, lo = 1, m=2, g = 9.81, tf = 40):\n",
    "\n",
    "    time = np.linspace(0, tf, 1001)\n",
    "    X0 = [0, 0, 45/180*np.pi, 0.1] # [x, z1, the, z2]\n",
    "    \n",
    "    ans = odeint(dXdt, y0 = X0, t=time, args=(g,lo,m,k))\n",
    "\n",
    "    x = ans.T[0] # theta1 en función del tiempo → ans.T[1] y ans.T[3] son las velocidades angulares\n",
    "    the = ans.T[2] # theta2 en función del tiempo \n",
    "\n",
    "    x, y= pol2rect(the, lo, x)\n",
    "\n",
    "    \n",
    "    plt.plot(x, y)\n",
    "    plt.xlabel('X(t)')\n",
    "    plt.ylabel('Y(t)')\n",
    "    plt.title('Péndulo Elástico en función del tiempo')\n",
    "    plt.grid()\n",
    "    plt.show()"
   ]
  },
  {
   "cell_type": "markdown",
   "metadata": {},
   "source": [
    "## Animación de la Solución"
   ]
  },
  {
   "cell_type": "code",
   "execution_count": 68,
   "metadata": {},
   "outputs": [],
   "source": [
    "# Parámetros de la solución\n",
    "g = 9.81\n",
    "k = 10\n",
    "m = 2\n",
    "lo = 1\n",
    "tf = 40\n",
    "\n",
    "#Cálculo con Odeint\n",
    "\n",
    "time = np.linspace(0, tf, 1001)\n",
    "X0 = [0, 0, 45/180*np.pi, 0.1] # [x, z1, the, z2]\n",
    "\n",
    "ans = odeint(dXdt, y0 = X0, t=time, args=(g,lo,m,k))\n",
    "\n",
    "x = ans.T[0] # theta1 en función del tiempo → ans.T[1] y ans.T[3] son las velocidades angulares\n",
    "the = ans.T[2] # theta2 en función del tiempo \n",
    "\n",
    "x, y= pol2rect(the, lo, x)\n",
    "\n",
    "#x1,y1 = x - 0.5 *np.sin(the), + 0.5*np.cos(the) + y"
   ]
  },
  {
   "cell_type": "code",
   "execution_count": 69,
   "metadata": {},
   "outputs": [
    {
     "data": {
      "image/png": "[encoded data removed]",
      "text/plain": [
       "<Figure size 600x600 with 1 Axes>"
      ]
     },
     "metadata": {},
     "output_type": "display_data"
    }
   ],
   "source": [
    "def animate6(i):\n",
    "    ln1.set_data([0, x[i]], [0, y[i]])\n",
    "    #ln1.set_data([0, x1[i]], [0, y1[i]])\n",
    "    #ln2.set_data([x1[i], x[i]], [y1[i], y[i]])\n",
    "    \n",
    "fig, ax = plt.subplots(1,1, figsize=(6,6))\n",
    "ax.set_facecolor('k')\n",
    "ax.get_xaxis().set_ticks([])    # enable this to hide x axis ticks\n",
    "ax.get_yaxis().set_ticks([])    # enable this to hide y axis ticks\n",
    "ln1, = plt.plot([], [], 'bo--', lw=3, markersize=8)\n",
    "#ln2, = plt.plot([], [], 'ro--', lw=3, markersize=8)\n",
    "ax.set_ylim(-4,4)\n",
    "ax.set_xlim(-4,4)\n",
    "ani = animation.FuncAnimation(fig, animate6, frames=1000, interval=50)\n",
    "ani.save('Ex6A.gif',writer='pillow',fps=25)"
   ]
  }
 ],
 "metadata": {
  "kernelspec": {
   "display_name": "Python 3",
   "language": "python",
   "name": "python3"
  },
  "language_info": {
   "codemirror_mode": {
    "name": "ipython",
    "version": 3
   },
   "file_extension": ".py",
   "mimetype": "text/x-python",
   "name": "python",
   "nbconvert_exporter": "python",
   "pygments_lexer": "ipython3",
   "version": "3.11.0"
  }
 },
 "nbformat": 4,
 "nbformat_minor": 2
}
